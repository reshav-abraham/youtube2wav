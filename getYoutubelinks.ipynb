{
 "cells": [
  {
   "cell_type": "code",
   "execution_count": 2,
   "metadata": {},
   "outputs": [],
   "source": [
    "from bs4 import BeautifulSoup as bs\n",
    "import requests\n",
    "import re\n",
    "import os\n",
    "from pytube import YouTube"
   ]
  },
  {
   "cell_type": "code",
   "execution_count": 4,
   "metadata": {},
   "outputs": [],
   "source": [
    "def readWrite(data,file_out,r=1):\n",
    "    if(r):\n",
    "        with open(file_out,\"r\") as file:\n",
    "            return \"\".join(file.readlines())\n",
    "    elif(r==0):\n",
    "        with open(file_out,\"w\") as file:\n",
    "            file.write(data)"
   ]
  },
  {
   "cell_type": "markdown",
   "metadata": {},
   "source": [
    "Parses Youtube playlist web page to get all video links in the Page. Creates array of tuples (link, songtitle)"
   ]
  },
  {
   "cell_type": "code",
   "execution_count": 32,
   "metadata": {},
   "outputs": [],
   "source": [
    "link = \"https://www.youtube.com/watch?v=oWop9OzZ6d4&list=PLdmX7FFFYdFAhjLgdBK9UV7_m2Puls7jc&index=1\"\n",
    "r = requests.get(link)\n",
    "page = r.text\n",
    "soup=bs(page,'html.parser')\n",
    "video_links = re.findall(r'data-video-id\\=\\\"(.*?)\\\" data-video-title\\=\\\"(.*?)\\\"',str(soup))"
   ]
  },
  {
   "cell_type": "markdown",
   "metadata": {},
   "source": [
    "Write Data to a file"
   ]
  },
  {
   "cell_type": "code",
   "execution_count": 48,
   "metadata": {},
   "outputs": [],
   "source": [
    "ht = \"https://www.youtube.com/watch?\"\n",
    "v = \"v=\" + video_links[0][0]"
   ]
  },
  {
   "cell_type": "code",
   "execution_count": 51,
   "metadata": {},
   "outputs": [],
   "source": [
    "strn_output = \"\"\n",
    "for data in video_links:\n",
    "    title = \"_\".join(data[1].replace(\"|\",\"\").replace(\",\",\"\").replace(\"+\",\"\").replace(\"–\",\"\").replace(\"(\",\"\").replace(\")\",\"\").split())\n",
    "    strn_output += ht+\"v=\"+data[0] + \"|\" + title + \"\\n\" "
   ]
  },
  {
   "cell_type": "code",
   "execution_count": 52,
   "metadata": {},
   "outputs": [],
   "source": [
    "readWrite(strn_output,\"links_titles.txt\",0)"
   ]
  },
  {
   "cell_type": "code",
   "execution_count": null,
   "metadata": {},
   "outputs": [],
   "source": []
  }
 ],
 "metadata": {
  "kernelspec": {
   "display_name": "Python 3",
   "language": "python",
   "name": "python3"
  },
  "language_info": {
   "codemirror_mode": {
    "name": "ipython",
    "version": 3
   },
   "file_extension": ".py",
   "mimetype": "text/x-python",
   "name": "python",
   "nbconvert_exporter": "python",
   "pygments_lexer": "ipython3",
   "version": "3.6.5"
  }
 },
 "nbformat": 4,
 "nbformat_minor": 2
}
